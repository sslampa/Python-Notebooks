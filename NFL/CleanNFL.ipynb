{
 "cells": [
  {
   "cell_type": "code",
   "execution_count": 1,
   "metadata": {
    "collapsed": true
   },
   "outputs": [],
   "source": [
    "import pandas as pd\n",
    "import warnings\n",
    "import numpy as np\n",
    "warnings.simplefilter(action = \"ignore\", category = FutureWarning)\n",
    "pd.options.mode.chained_assignment = None"
   ]
  },
  {
   "cell_type": "code",
   "execution_count": 2,
   "metadata": {
    "collapsed": true
   },
   "outputs": [],
   "source": [
    "col_names = [\"Name\", \"Team\"]"
   ]
  },
  {
   "cell_type": "code",
   "execution_count": 3,
   "metadata": {
    "collapsed": false
   },
   "outputs": [],
   "source": [
    "rb_2015 = pd.read_csv(\"rb1_2015.csv\", header=None, names=col_names)\n",
    "wr_2015 = pd.read_csv(\"wr1_2015.csv\", header=None, names=col_names)\n",
    "te_2015 = pd.read_csv(\"te1_2015.csv\", header=None, names=col_names)\n",
    "qb_2015 = pd.read_csv(\"qb1_2015.csv\", header=None, names=col_names)\n",
    "nfl_df = pd.read_csv(\"nfl2015.csv\")"
   ]
  },
  {
   "cell_type": "code",
   "execution_count": 4,
   "metadata": {
    "collapsed": true
   },
   "outputs": [],
   "source": [
    "team_changes = [['NOR', 'NO'], ['GNB', 'GB'], ['SFO', 'SF'], ['KAN', 'KC'], ['NWE', 'NE'], ['SDG', 'SD'], ['TAM', 'TB'], \n",
    "                ['JAX', 'JAC']]"
   ]
  },
  {
   "cell_type": "code",
   "execution_count": 5,
   "metadata": {
    "collapsed": true
   },
   "outputs": [],
   "source": [
    "dataframes = [rb_2015, wr_2015, te_2015, qb_2015]"
   ]
  },
  {
   "cell_type": "code",
   "execution_count": 6,
   "metadata": {
    "collapsed": true
   },
   "outputs": [],
   "source": [
    "def replace_team(dataframes, changes):\n",
    "    for df in dataframes:\n",
    "        for team in changes:\n",
    "            df.Team = df.Team.str.replace(team[0], team[1])"
   ]
  },
  {
   "cell_type": "code",
   "execution_count": 7,
   "metadata": {
    "collapsed": true
   },
   "outputs": [],
   "source": [
    "def replace_name(dataframes):\n",
    "    for df in dataframes:\n",
    "        df[\"letter\"] = df[\"Name\"].str.extract(\"([A-Z])\")\n",
    "        df[\"last\"] = df[\"Name\"].str.extract(\"\\s([A-Za-z]+)\")\n",
    "        df[\"Player\"] = df[\"letter\"] + '.' + df[\"last\"]\n",
    "        df.drop([\"Name\", \"last\", \"letter\"], axis=1, inplace=True)"
   ]
  },
  {
   "cell_type": "code",
   "execution_count": 8,
   "metadata": {
    "collapsed": true
   },
   "outputs": [],
   "source": [
    "replace_team(dataframes, team_changes)\n",
    "replace_name(dataframes)"
   ]
  },
  {
   "cell_type": "code",
   "execution_count": 9,
   "metadata": {
    "collapsed": true
   },
   "outputs": [],
   "source": [
    "rb_2015[\"Position\"] = \"RB\"\n",
    "wr_2015[\"Position\"] = \"WR\"\n",
    "te_2015[\"Position\"] = \"TE\"\n",
    "qb_2015[\"Position\"] = \"QB\""
   ]
  },
  {
   "cell_type": "code",
   "execution_count": 10,
   "metadata": {
    "collapsed": true
   },
   "outputs": [],
   "source": [
    "#rb_2015.to_csv(\"rb_2015.csv\", index=False)\n",
    "#wr_2015.to_csv(\"wr_2015.csv\", index=False)\n",
    "#te_2015.to_csv(\"te_2015.csv\", index=False)"
   ]
  },
  {
   "cell_type": "code",
   "execution_count": 11,
   "metadata": {
    "collapsed": true
   },
   "outputs": [],
   "source": [
    "def add_to_list(team_list, teams, player, position):\n",
    "    for x in teams:\n",
    "        team_list.append([x, player, position])\n",
    "\n",
    "qb_to_add = []\n",
    "add_to_list(qb_to_add, ['BUF', 'DAL'], 'M.Cassel', 'QB')\n",
    "add_to_list(qb_to_add, ['HOU', 'BAL'], 'R.Mallett', 'QB')\n",
    "add_to_list(qb_to_add, ['DAL', 'HOU'], 'B.Weeden', 'QB')\n",
    "add_to_list(qb_to_add, ['CHI', 'BAL'], 'J.Clausen', 'QB')\n",
    "add_to_list(qb_to_add, ['HOU', 'SEA'], 'B.Daniels', 'QB')\n",
    "add_to_list(qb_to_add, ['TEN', 'IND'], 'C.Whitehurst', 'QB')\n",
    "\n",
    "te_to_add = []\n",
    "add_to_list(te_to_add, ['TEN', 'SEA'], 'C.Coffman', 'TE')\n",
    "add_to_list(te_to_add, ['DEN', 'SF'], 'V.Davis', 'TE')\n",
    "add_to_list(te_to_add, ['NO', 'NE'], 'M.Hoomanawanui', 'TE')\n",
    "add_to_list(te_to_add, ['CHI', 'CLE'], 'R.Housler', 'TE')\n",
    "\n",
    "rb_to_add = []\n",
    "add_to_list(rb_to_add, ['NO', 'NE', 'SF'], 'T.Cadet', 'RB')\n",
    "add_to_list(rb_to_add, ['CLE', 'SF'], 'S.Draughn', 'RB')\n",
    "add_to_list(rb_to_add, ['JAC', 'MIA'], 'J.Gray', 'RB')\n",
    "add_to_list(rb_to_add, ['SEA', 'SF'], 'D.Harris', 'RB')\n",
    "add_to_list(rb_to_add, ['BUF', 'IND'], 'D.Herron', 'RB')\n",
    "add_to_list(rb_to_add, ['DAL', 'SEA'], 'C.Michael', 'RB')\n",
    "add_to_list(rb_to_add, ['DAL', 'SEA'], 'R.Smith', 'RB')\n",
    "add_to_list(rb_to_add, ['OAK', 'BUF'], 'M.Thigpen', 'RB')\n",
    "add_to_list(rb_to_add, ['SF', 'WAS'], 'P.Thomas', 'RB')\n",
    "add_to_list(rb_to_add, ['CLE', 'DAL'], 'R.Turbin', 'RB')\n",
    "add_to_list(rb_to_add, ['TEN', 'BAL'], 'T.West', 'RB')\n",
    "\n",
    "wr_to_add = []\n",
    "add_to_list(wr_to_add, ['HOU', 'SEA'], 'B.Daniels', 'WR')\n",
    "add_to_list(wr_to_add, ['STL', 'BAL'], 'C.Givens', 'WR')\n",
    "add_to_list(wr_to_add, ['ATL', 'BUF', 'NE'], 'L.Hankerson', 'WR')\n",
    "add_to_list(wr_to_add, ['BAL', 'SEA'], 'C.Matthews', 'WR')\n",
    "add_to_list(wr_to_add, ['BAL', 'OAK'], 'J.Ross', 'WR')\n",
    "\n",
    "qb_to_add_df = pd.DataFrame(qb_to_add, columns=['Team', 'Player', 'Position'])\n",
    "qb_2015 = qb_2015.append(qb_to_add_df)\n",
    "\n",
    "te_to_add_df = pd.DataFrame(te_to_add, columns=['Team', 'Player', 'Position'])\n",
    "te_2015 = te_2015.append(te_to_add_df)\n",
    "\n",
    "rb_to_add_df = pd.DataFrame(rb_to_add, columns=['Team', 'Player', 'Position'])\n",
    "rb_2015 = rb_2015.append(rb_to_add_df)\n",
    "\n",
    "wr_to_add_df = pd.DataFrame(wr_to_add, columns=['Team', 'Player', 'Position'])\n",
    "wr_2015 = wr_2015.append(wr_to_add_df)"
   ]
  },
  {
   "cell_type": "code",
   "execution_count": 12,
   "metadata": {
    "collapsed": false
   },
   "outputs": [],
   "source": [
    "temp1 = nfl_df.merge(rb_2015, how='left', left_on=['posteam', 'Rusher'], \n",
    "                     right_on=['Team', 'Player']).drop(['Team', 'Player'], axis=1)"
   ]
  },
  {
   "cell_type": "code",
   "execution_count": 13,
   "metadata": {
    "collapsed": false
   },
   "outputs": [],
   "source": [
    "temp1.rename(columns = {'Position': 'Pos_RB_Rush'}, inplace=True)"
   ]
  },
  {
   "cell_type": "code",
   "execution_count": 14,
   "metadata": {
    "collapsed": true
   },
   "outputs": [],
   "source": [
    "temp2 = temp1.merge(rb_2015, how='left', left_on=['posteam', 'Receiver'],\n",
    "                    right_on=['Team', 'Player']).drop(['Team', 'Player'], axis=1)"
   ]
  },
  {
   "cell_type": "code",
   "execution_count": 15,
   "metadata": {
    "collapsed": false
   },
   "outputs": [],
   "source": [
    "temp2.rename(columns = {'Position': 'Pos_RB_Rec'}, inplace=True)"
   ]
  },
  {
   "cell_type": "code",
   "execution_count": 16,
   "metadata": {
    "collapsed": false
   },
   "outputs": [],
   "source": [
    "temp3 = temp2.merge(wr_2015, how='left', left_on=['posteam', 'Receiver'],\n",
    "                  right_on=['Team', 'Player']).drop(['Team', 'Player'], axis=1)"
   ]
  },
  {
   "cell_type": "code",
   "execution_count": 17,
   "metadata": {
    "collapsed": false
   },
   "outputs": [],
   "source": [
    "temp3.rename(columns = {'Position': 'Pos_WR_Rec'}, inplace=True)"
   ]
  },
  {
   "cell_type": "code",
   "execution_count": 18,
   "metadata": {
    "collapsed": false
   },
   "outputs": [],
   "source": [
    "temp4 = temp3.merge(te_2015, how='left', left_on=['posteam', 'Receiver'],\n",
    "                   right_on=['Team', 'Player']).drop(['Team', 'Player'], axis=1)"
   ]
  },
  {
   "cell_type": "code",
   "execution_count": 19,
   "metadata": {
    "collapsed": false
   },
   "outputs": [],
   "source": [
    "temp4.rename(columns = {'Position': 'Pos_TE_Rec'}, inplace=True)"
   ]
  },
  {
   "cell_type": "code",
   "execution_count": 20,
   "metadata": {
    "collapsed": true
   },
   "outputs": [],
   "source": [
    "temp5 = temp4.merge(qb_2015, how='left', left_on=['posteam', 'Rusher'],\n",
    "                   right_on=['Team', 'Player']).drop(['Team', 'Player'], axis=1)"
   ]
  },
  {
   "cell_type": "code",
   "execution_count": 21,
   "metadata": {
    "collapsed": false
   },
   "outputs": [],
   "source": [
    "temp5.rename(columns = {'Position': 'Pos_QB_Rush'}, inplace=True)"
   ]
  },
  {
   "cell_type": "code",
   "execution_count": 22,
   "metadata": {
    "collapsed": true
   },
   "outputs": [],
   "source": [
    "temp6 = temp5.merge(wr_2015, how='left', left_on=['posteam', 'Rusher'],\n",
    "                   right_on=['Team', 'Player']).drop(['Team', 'Player'], axis=1)"
   ]
  },
  {
   "cell_type": "code",
   "execution_count": 23,
   "metadata": {
    "collapsed": true
   },
   "outputs": [],
   "source": [
    "temp6.rename(columns = {'Position': 'Pos_WR_Rush'}, inplace=True)"
   ]
  },
  {
   "cell_type": "code",
   "execution_count": 24,
   "metadata": {
    "collapsed": false
   },
   "outputs": [],
   "source": [
    "temp6[\"NewPos\"] = 0\n",
    "temp6[\"NewPos\"][~temp6['Pos_RB_Rush'].isnull()] = 'RB'\n",
    "temp6[\"NewPos\"][~temp6['Pos_RB_Rec'].isnull()] = 'RB'\n",
    "temp6[\"NewPos\"][~temp6['Pos_WR_Rec'].isnull()] = 'WR'\n",
    "temp6[\"NewPos\"][~temp6['Pos_TE_Rec'].isnull()] = 'TE'\n",
    "temp6[\"NewPos\"][~temp6['Pos_QB_Rush'].isnull()] = 'QB'\n",
    "temp6[\"NewPos\"][~temp6['Pos_WR_Rush'].isnull()] = 'WR'"
   ]
  },
  {
   "cell_type": "code",
   "execution_count": 25,
   "metadata": {
    "collapsed": false
   },
   "outputs": [],
   "source": [
    "temp6[\"NewPos\"][temp6['Rusher'].isnull() & temp6['Receiver'].isnull()] = -99"
   ]
  },
  {
   "cell_type": "code",
   "execution_count": 26,
   "metadata": {
    "collapsed": false
   },
   "outputs": [
    {
     "name": "stderr",
     "output_type": "stream",
     "text": [
      "C:\\Users\\StFed\\Anaconda2\\lib\\site-packages\\ipykernel\\__main__.py:1: UserWarning: This pattern has match groups. To actually get the groups, use str.extract.\n",
      "  if __name__ == '__main__':\n"
     ]
    }
   ],
   "source": [
    "temp6['DWill'] = temp6['desc'].str.contains('\\s(De.Williams)\\s')\n",
    "temp6[\"NewPos\"][temp6['DWill'] == True] = 'RB'\n",
    "temp6[\"Rusher\"][temp6['DWill'] == True] = 'De.Williams'\n",
    "temp6.drop(['DWill'], axis=1, inplace=True)"
   ]
  },
  {
   "cell_type": "code",
   "execution_count": 27,
   "metadata": {
    "collapsed": false
   },
   "outputs": [
    {
     "name": "stderr",
     "output_type": "stream",
     "text": [
      "C:\\Users\\StFed\\Anaconda2\\lib\\site-packages\\ipykernel\\__main__.py:1: UserWarning: This pattern has match groups. To actually get the groups, use str.extract.\n",
      "  if __name__ == '__main__':\n"
     ]
    }
   ],
   "source": [
    "temp6['KWill'] = temp6['desc'].str.contains('\\s(Ka.Williams)\\s')\n",
    "temp6[\"NewPos\"][temp6['KWill'] == True] = 'RB'\n",
    "temp6['Rusher'][temp6['KWill'] == True] = 'Ka.Williams'\n",
    "temp6.drop(['KWill'], axis=1, inplace=True)"
   ]
  },
  {
   "cell_type": "code",
   "execution_count": 45,
   "metadata": {
    "collapsed": true
   },
   "outputs": [],
   "source": [
    "temp6['NewPos'].loc[593] = 'Other'\n",
    "temp6['NewPos'].loc[1514] = 'RB'\n",
    "temp6['NewPos'].loc[2552] = 'QB'\n",
    "temp6['Rusher'].loc[2552] = 'B.Osweiler'\n",
    "temp6['NewPos'].loc[2285] = 'RB'\n",
    "temp6['Rusher'].loc[2285] = 'D.Freeman'\n",
    "temp6['NewPos'].loc[2476] = 'RB'\n",
    "temp6['Rusher'].loc[2476] = 'I.Crowell'\n",
    "temp6['NewPos'].loc[2564] = 'RB'\n",
    "temp6['Rusher'].loc[2564] = 'M.Lynch'\n",
    "temp6['NewPos'].loc[2676] = 'Other'\n",
    "temp6['NewPos'].loc[2715] = 'Other'\n",
    "temp6['NewPos'].loc[3659] = 'TE'\n",
    "temp6['NewPos'].loc[3827] = 'TE'\n",
    "temp6['NewPos'].loc[3861] = 'QB'\n",
    "temp6['Rusher'].loc[3861] = 'D.Carr'\n",
    "temp6['NewPos'].loc[3870] = 'TE'\n",
    "temp6['NewPos'].loc[3972] = 'WR'"
   ]
  },
  {
   "cell_type": "code",
   "execution_count": 47,
   "metadata": {
    "collapsed": true
   },
   "outputs": [],
   "source": [
    "temp6.drop(temp6.index[[2252, 3411, 3534, 4019]], inplace=True)\n",
    "temp6.drop(['Unnamed: 0'], axis=1, inplace=True)"
   ]
  },
  {
   "cell_type": "code",
   "execution_count": 53,
   "metadata": {
    "collapsed": false
   },
   "outputs": [],
   "source": [
    "temp6.to_csv('nfl_clean.csv', index=False)"
   ]
  },
  {
   "cell_type": "code",
   "execution_count": null,
   "metadata": {
    "collapsed": true
   },
   "outputs": [],
   "source": []
  }
 ],
 "metadata": {
  "kernelspec": {
   "display_name": "Python 2",
   "language": "python",
   "name": "python2"
  },
  "language_info": {
   "codemirror_mode": {
    "name": "ipython",
    "version": 2
   },
   "file_extension": ".py",
   "mimetype": "text/x-python",
   "name": "python",
   "nbconvert_exporter": "python",
   "pygments_lexer": "ipython2",
   "version": "2.7.11"
  }
 },
 "nbformat": 4,
 "nbformat_minor": 0
}
